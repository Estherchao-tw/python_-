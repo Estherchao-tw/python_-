{
 "cells": [
  {
   "cell_type": "code",
   "execution_count": null,
   "metadata": {},
   "outputs": [],
   "source": [
    "import yfinance as yf\n",
    "import pandas as pd\n",
    "import datetime\n",
    "import numpy as np\n",
    "import matplotlib.pyplot as plt\n",
    "from pandas.plotting import scatter_matrix\n",
    "%matplotlib inline\n",
    "\n",
    "\n",
    "start = '2019-7-30'\n",
    "end = '2023-7-30'\n",
    "\n",
    "tsm = yf.download(\"2330.tw\",start,end) # 台積電\n",
    "rsc = yf.download(\"2379.tw\",start,end) # 瑞昱\n",
    "wtc = yf.download(\"3231.tw\",start,end) # 緯創\n"
   ]
  },
  {
   "cell_type": "markdown",
   "metadata": {},
   "source": [
    "### **Stock Price 股價**"
   ]
  },
  {
   "cell_type": "code",
   "execution_count": null,
   "metadata": {},
   "outputs": [],
   "source": [
    "plt.figure(figsize=(10,8))\n",
    "tsm['Open'].plot(label = 'tsm')\n",
    "rsc['Open'].plot(label = 'rsc')\n",
    "wtc['Open'].plot(label = 'wtc')\n",
    "plt.rcParams['font.sans-serif'] = [\"Microsoft JhengHei\"]\n",
    "plt.title(\"Stock Price 股價\",fontsize='large')\n",
    "plt.legend([\"台積電\",\"瑞昱\",\"緯創\"],loc=\"upper right\")"
   ]
  },
  {
   "cell_type": "markdown",
   "metadata": {},
   "source": [
    "the above graph is the representation of open stock prices for these three companies via line graph by leveraging matplotlib library in python.\n",
    "The graph clearly shows that the prices of tsmc is more when comparing it to other two companies but we are not interested in the absolute prices for these companies but wanted to understand how these stock fluctuate with time."
   ]
  },
  {
   "cell_type": "code",
   "execution_count": null,
   "metadata": {},
   "outputs": [],
   "source": [
    "plt.figure(figsize=(10,8))\n",
    "tsm['Volume'].plot(label = 'tsm')\n",
    "rsc['Volume'].plot(label = 'rsc')\n",
    "wtc['Volume'].plot(label = 'wtc')\n",
    "plt.rcParams['font.sans-serif'] = [\"Microsoft JhengHei\"]\n",
    "plt.title(\"Volume 成交股數\",fontsize='large')\n",
    "plt.legend([\"台積電\",\"瑞昱\",\"緯創\"],loc=\"upper right\")"
   ]
  },
  {
   "cell_type": "markdown",
   "metadata": {},
   "source": [
    "the graph shows the volume traded by these companies which clearly shows that stocks of tsmc and rsc are more compared to the stocks of wsc. Moreover,we can tell 緯創 starts to show an upward tendency in the first half of 2023,so we can keep an eye on this stock."
   ]
  },
  {
   "cell_type": "markdown",
   "metadata": {},
   "source": [
    "### **market capitalisation 市值**"
   ]
  },
  {
   "cell_type": "code",
   "execution_count": null,
   "metadata": {},
   "outputs": [],
   "source": [
    "tsm['marktCap'] = tsm['Open'] * tsm['Volume']\n",
    "rsc['marktCap'] = rsc['Open'] * rsc['Volume']\n",
    "wtc['marktCap'] = wtc['Open'] * wtc['Volume']\n",
    "\n",
    "\n",
    "tsm['marktCap'].plot(label = 'TSM',figsize = (15,7))\n",
    "rsc['marktCap'].plot(label = 'rsc')\n",
    "wtc['marktCap'].plot(label = 'wtc')\n",
    "plt.rcParams['font.sans-serif'] = [\"Microsoft JhengHei\"]\n",
    "plt.title(\"Market Capitalisation 市值\",fontsize='large')\n",
    "plt.legend([\"台積電\",\"瑞昱\",\"緯創\"],loc=\"upper right\")\n",
    "\n"
   ]
  },
  {
   "cell_type": "markdown",
   "metadata": {},
   "source": [
    "Only volume or stock do not provide a comparison between companies. Here, I have plotted a graph for Volume * Share price to better compare the companies.As we can clearly see from the graph the graph that 台積電 seems to be traded on a higher side in the past 5 years, and 緯創 has skyrocketed from Jen 2023 to Jul 2023, so let's look a bright side in Q3 2023."
   ]
  },
  {
   "cell_type": "markdown",
   "metadata": {},
   "source": [
    "### **Moving Averages for Stock Price Analysis With Python**\n",
    "\n",
    "As we know the stock prices are highly volatile and prices change quickly.To observe any trend or pattern e can take the help of a 50-day 200-day average."
   ]
  },
  {
   "cell_type": "code",
   "execution_count": null,
   "metadata": {},
   "outputs": [],
   "source": [
    "\n",
    "tsm['MA50'] = tsm['Open'].rolling(50).mean()\n",
    "tsm['MA200'] = tsm['Open'].rolling(200).mean()\n",
    "print(type(tsm['MA50']))\n",
    "ax = plt.subplot(311)\n",
    "ax.plot(tsm['Open'])\n",
    "ax.plot(tsm['MA50'])\n",
    "ax.plot(tsm['MA200'])\n",
    "ax.set_title(\"台積電平均移動線:MA50 VS MA200\",fontsize='large')\n",
    "ax.legend(['MA200','MA50'])\n",
    "\n",
    "ax = plt.subplot(312)\n",
    "rsc['MA50'] = rsc['Open'].rolling(50).mean()\n",
    "rsc['MA200'] = rsc['Open'].rolling(200).mean()\n",
    "ax.plot(rsc['Open'])\n",
    "ax.plot(rsc['MA50'])\n",
    "ax.plot(rsc['MA200'])\n",
    "ax.legend(['MA200','MA50'])\n",
    "ax.set_title(\"瑞昱平均移動線:MA50 VS MA200\",fontsize='large')\n",
    "\n",
    "ax = plt.subplot(313)\n",
    "wtc['MA50'] = wtc['Open'].rolling(50).mean()\n",
    "wtc['MA200'] = wtc['Open'].rolling(200).mean()\n",
    "ax.plot(wtc['Open'])\n",
    "ax.plot(wtc['MA50'])\n",
    "ax.plot(wtc['MA200'])\n",
    "ax.legend(['MA200','MA50'])\n",
    "ax.set_title(\"緯創平均移動線:MA50 VS MA200\",fontsize='large')\n",
    "\n",
    "plt.tight_layout()"
   ]
  },
  {
   "cell_type": "markdown",
   "metadata": {},
   "source": [
    "### **Scattered Plot Matrix散點圖矩陣**"
   ]
  },
  {
   "cell_type": "code",
   "execution_count": null,
   "metadata": {},
   "outputs": [],
   "source": [
    "data = pd.concat([tsm['Open'],rsc['Open'],wtc['Open']],axis = 1)\n",
    "data.columns = [\"台積電Open\",\"瑞昱Open\",\"緯創Open\"]\n",
    "scatter_matrix(data,figsize = (8,8), hist_kwds = {'bins':250})\n"
   ]
  },
  {
   "cell_type": "markdown",
   "metadata": {},
   "source": [
    "上圖是每個公司的直方圖組合，隨後的分散圖同時持有兩家公司的股票的股價。舉個例子，台積電對台積電(1,1)、瑞昱對瑞昱(2,2)、緯創對緯創(3,3)，這三組價格波動沒有改變，其他就是台積電對瑞昱、台積電對緯創，這個分散圖同時持有兩家公司的股票的股價，比對兩家公司有相同價格的地方。<br>\n",
    "From the upper Graph,we can clearly figure out that 台積電 stock tightly showing linear correlation with 瑞昱 stock, and loosely showing linear correlation with 緯創."
   ]
  },
  {
   "cell_type": "markdown",
   "metadata": {},
   "source": [
    "### **Percentage Increase in Stock Value 股票價值增加百分比**\n",
    "\n",
    "A percentage increase in stock value is the change in stock comparing that to the previous day. The bigger the value either positive or negative the volatile the stock is.\n",
    "股票價值增長百分比 股票價值增加的百分比是股票與前一天相比的變化。正值或負值越大，股票的波動性越大。"
   ]
  },
  {
   "cell_type": "code",
   "execution_count": null,
   "metadata": {},
   "outputs": [],
   "source": [
    "# Volatility\n",
    "tsm['returns'] = (tsm['Close']/tsm['Close'].shift(1)) -1\n",
    "rsc['returns'] = (rsc['Close']/rsc['Close'].shift(1)) -1\n",
    "wtc['returns'] = (wtc['Close']/wtc['Close'].shift(1)) -1\n",
    "tsm['returns'].hist(bins=100,label=\"Tsm\",alpha=0.5,figsize = (15,7))\n",
    "rsc['returns'].hist(bins=100,label=\"Rsc\",alpha=0.5)\n",
    "wtc['returns'].hist(bins=100,label=\"Wtc\",alpha=0.5)\n",
    "plt.rcParams['font.sans-serif'] = [\"Microsoft JhengHei\"]\n",
    "plt.title(\"Percentage Increase in Stock Value 股票價值增加百分比\",fontsize='large')\n",
    "plt.legend([\"台積電\",\"瑞昱\",\"緯創\"],loc=\"upper right\")\n"
   ]
  },
  {
   "cell_type": "markdown",
   "metadata": {},
   "source": [
    "### **Conclusion**\n",
    "the above analysis can be used to understand a stock's short-term and long-term behavior. A decision support system can be created which stock to pick from industry for low-rick low gain or high risk high gain depending on the risk apatite of the investor.\n",
    "\n",
    "[^reference:](https://www.analyticsvidhya.com/blog/2021/07/stock-prices-analysis-with-python/)"
   ]
  }
 ],
 "metadata": {
  "kernelspec": {
   "display_name": ".venv",
   "language": "python",
   "name": "python3"
  },
  "language_info": {
   "codemirror_mode": {
    "name": "ipython",
    "version": 3
   },
   "file_extension": ".py",
   "mimetype": "text/x-python",
   "name": "python",
   "nbconvert_exporter": "python",
   "pygments_lexer": "ipython3",
   "version": "3.8.0"
  },
  "orig_nbformat": 4
 },
 "nbformat": 4,
 "nbformat_minor": 2
}
